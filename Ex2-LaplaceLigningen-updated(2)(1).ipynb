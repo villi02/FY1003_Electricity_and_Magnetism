{
 "cells": [
  {
   "cell_type": "markdown",
   "metadata": {},
   "source": [
    "# Laplace Likningen og Iterative Metoder"
   ]
  },
  {
   "cell_type": "markdown",
   "metadata": {},
   "source": [
    "### FY1003 Elektrisitet og Magnetisme - Numerisk Øving 2"
   ]
  },
  {
   "cell_type": "markdown",
   "metadata": {},
   "source": [
    "En av de mest sentrale likningene i elektromagnetismen er Laplace likningen, $\\nabla^2 V(x,y) = 0$, som beskriver det elektriske felt i vakuum. Denne øvingen handler om å løse Laplace likningen i 2 dimensjoner ved å bruke tre *iterative* metoder, Jacobi metoden,  Gauss-Seidel metoden, og SOR (Successive Over-Relaxation), samt å sammenlikne disse tre metodene."
   ]
  },
  {
   "cell_type": "markdown",
   "metadata": {},
   "source": [
    "### Laplace likningen for boks med konstant sidekant"
   ]
  },
  {
   "cell_type": "markdown",
   "metadata": {},
   "source": [
    "En av de enklere systemene vi kan se på er en kvadratisk boks med lengde, $L$, hvor potensialet på den ene siden er holdt konstant, $V = V_0$, og den motsatte siden er jordet, $V = 0$. I denne oppgaven velger vi periodiske grensebetingelser for de to gjenstående sidene, men det er også vanlig å la disse være jordet. For å finne potensialet inne i boksen må man dermed finne en løsning til Laplace likningen, $\\nabla^2 V(x,y) = 0$, som oppfyller grensebetingelsene \n",
    "\n",
    "- $V(0,y) = V_0 = 1$,\n",
    "- $V(L, y) = 0$,\n",
    "- $V(x,0) = V(x,L)$.\n",
    "\n",
    "Dette er en andreordens homogen partiell differensiallikning, og med de gitte grensebetingelsene er det garantert at det eksisterer en unik løsning inne i boksen.\n",
    "\n",
    "Diskretisering av Laplace likningen gir \n",
    "\\begin{equation}\n",
    "0 = \\frac{V(x_{i-1},y_j) - 2V(x_i, y_j) + V(x_{i+1},y_j)}{\\Delta x} + \\frac{V(x_i,y_{j-1}) - 2V(x_i, y_j) + V(x_i,y_{j+1})}{\\Delta y}\\text{,}\n",
    "\\end{equation}\n",
    "\n",
    "hvis vi setter $\\Delta x = \\Delta y$ får vi\n",
    "\\begin{equation}\n",
    "V(x_i, y_j) = \\frac{1}{4}\\big[ V(x_{i-1},y_j) + V(x_{i+1},y_j) + V(x_i,y_{j-1}) + V(x_i,y_{j+1})\\big] \\text{,}\n",
    "\\end{equation}\n",
    "som gir oss utgangspunktet for de iterative metodene.\n",
    "\n",
    "I dette enkle tilfellet er den analytiske løsningen kjent, nemlig $V(x,y) = 1-x/L$ "
   ]
  },
  {
   "cell_type": "markdown",
   "metadata": {},
   "source": [
    "### Oppgave 1: Analytisk løsning"
   ]
  },
  {
   "cell_type": "markdown",
   "metadata": {},
   "source": [
    "Plot den analytiske løsningen $V(x,y) = 1-x/L$ for $x,y \\in [0,1]$. Dette kan for eksempel løses ved hjelp av np.meshgrid og plt.imshow som i øving 1."
   ]
  },
  {
   "cell_type": "code",
   "execution_count": 35,
   "metadata": {},
   "outputs": [
    {
     "data": {
      "text/plain": [
       "<matplotlib.colorbar.Colorbar at 0x7fe4605f5400>"
      ]
     },
     "execution_count": 35,
     "metadata": {},
     "output_type": "execute_result"
    },
    {
     "data": {
      "image/png": "[encoded data removed]",
      "text/plain": [
       "<Figure size 640x480 with 2 Axes>"
      ]
     },
     "metadata": {},
     "output_type": "display_data"
    }
   ],
   "source": [
    "import numpy as np\n",
    "import matplotlib.pyplot as plt\n",
    "import pandas as pd\n",
    "import time\n",
    "#-----------------SKRIV DIN LØSNING HER--------------------------------------------------------------#\n",
    "L = 1\n",
    "start = 0\n",
    "end = 1\n",
    "nx, ny = (150, 150)\n",
    "x = np.linspace(start, end, nx)\n",
    "y = np.linspace(start, end, ny)\n",
    "xv, yv = np.meshgrid(x, y)\n",
    "\n",
    "#V = lambda x, y: 1 - x/L\n",
    "\n",
    "def V(x, y):\n",
    "    return 1 - x/L\n",
    "\n",
    "V_plot = V(xv, yv)\n",
    "\n",
    "c = plt.imshow(V_plot, vmin = 0, vmax = 1,\n",
    "                 extent =[0, 1, 0, 1],\n",
    "                    interpolation ='nearest', origin ='lower')\n",
    "plt.colorbar()\n"
   ]
  },
  {
   "cell_type": "markdown",
   "metadata": {},
   "source": [
    "### Oppgave 2: Jacobi metoden"
   ]
  },
  {
   "cell_type": "markdown",
   "metadata": {},
   "source": [
    "Jacobi metoden er en iterativ metode for å løse et system med lineære ligninger. Ideén er at man gjetter en prøveløsning $V^{(0)}$ og bruker denne til å generere en ny løsning $V^{(1)}$ ved hjelp av en rekursjonsformel, der den nye løsningen (forhåpentligvis) er nærmere riktig løsning enn den vi startet med. Man kan så gjennta denne prosessen for den nye løsningen og generere en følge med løsninger $\\{V^{(k)}\\}$ som konvergerer gradvis mot riktig løsning når $k$ øker.\n",
    "\n",
    "For Laplace likningen vil Jacobi-metoden gi følgende rekursjonsformel:\n",
    "\\begin{equation}\n",
    "V^{(\\text{k}+1)}(x_i, y_j)= \\frac{1}{4}\\big[ V^{(\\text{k})}(x_{i-1},y_j) + V^{(\\text{k})}(x_{i+1},y_j) + V^{(\\text{k})}(x_i,y_{j-1}) + V^{(\\text{k})}(x_i,y_{j+1})\\big]\\text{.}\n",
    "\\end{equation}\n",
    "Dere skal nå bruke rekursjonsformelen til å løse Laplace ligning rekursivt. "
   ]
  },
  {
   "cell_type": "markdown",
   "metadata": {},
   "source": [
    "$\\textbf{2a)}$ Skriv en funksjon <i> Jacobi_step </i> som tar inn en $N\\times N$ matrise $V^{(k)}$ samt størrelsen $N$ og returnerer matrisen $V^{(k+1)}$. Denne funksjonen skal altså gå gjennom alle $x_i$ og $y_j$ (representert ved indexer i matrisen $V^{(k)}$) og regne ut $V^{(k+1)}(x_i, y_j)$ gitt ved formelen over. Ting å være obs på:\n",
    "<ul>\n",
    "<li> Det er periodiske grensebetingelser langs y-retningen, som vil si at $V^{(k)}(x_i, y_N) = V^{(k)}(x_i, y_0)$ (For 0-indeksering som i python)</li>\n",
    "<li> Potensialet holdes konstant langs de to kantene $V^{(k)}(x_0, y_j)$ og $V^{(k)}(x_{N-1}, y_j)$, så disse skal ikke oppdateres </li> ift rekursjonsformelen men settes til riktige verdier.\n",
    "<li> $x$-verdiene svarer til kolonner og $y$-verdiene til rader i matrisen, slik at indexene blir omvendt av det vi er vant til med kartesiske kordinater</li>\n",
    "</ul>"
   ]
  },
  {
   "cell_type": "code",
   "execution_count": 24,
   "metadata": {},
   "outputs": [
    {
     "name": "stdout",
     "output_type": "stream",
     "text": [
      "[[ 0  1  2  3  4]\n",
      " [ 5  6  7  8  9]\n",
      " [10 11 12 13 14]\n",
      " [15 16 17 18 19]\n",
      " [20 21 22 23 24]]\n",
      "[[ 0  7  9 11  4]\n",
      " [ 5  6  7  8  9]\n",
      " [10 11 12 13 14]\n",
      " [15 16 17 18 19]\n",
      " [20 16 16 17 24]]\n"
     ]
    }
   ],
   "source": [
    "#-----------------SKRIV DIN LØSNING HER--------------------------------------------------------------#\n",
    "def Jacobi_step(V_k, N):\n",
    "    new_V = np.copy(V_k)\n",
    "    for x in range (1, N-1):\n",
    "        new_V[0, x] = (new_V[0, x-1] + new_V[0, x+1] + new_V[N-1, x] + new_V[1, x]) /4\n",
    "        for y in range(1, N-1):\n",
    "            new_V[y, x] = (V_k[y-1, x] + V_k[y+1,x] + V_k[y,x-1] + V_k[y,x+1]) / 4\n",
    "\n",
    "            new_V[N-1, x] = (new_V[N-1, x-1] + new_V[N-1, x+1] + new_V[N-2, x] + new_V[0, x]) / 4\n",
    "    return new_V\n",
    "\n",
    "#--------------------------------------Test--------------------------------------------------#\n",
    "N = 5\n",
    "V_k = np.reshape(np.arange(N**2),[N,N])\n",
    "print(V_k)\n",
    "print(Jacobi_step(V_k, N))"
   ]
  },
  {
   "cell_type": "markdown",
   "metadata": {},
   "source": [
    "Nå som vi har en metode for å regne ut $V^{(k+1)}$ trenger vi en metode for å bestemme når løsningen vår er 'god nok'. Siden vi vet den analytiske løsningen $V$ kan vi sammenligne med denne ved hjelp av matrise-normen, $||V^{(k)} - V||$, som går mot null når den itterative løsningen konvergerer mot den analytiske løsningen. Vi kan derfor velge en numerisk toleranse \"<i>tol</i>\", og si at den itterative løsningen er god nok når $||V^{(k)} - V|| < tol$."
   ]
  },
  {
   "cell_type": "markdown",
   "metadata": {},
   "source": [
    "$\\mathbf{2b)}$ Skriv en funksjon <i>Jacobi</i> som tar inn en prøveløsning $V^{(0)}$, den analytiske løsningen $V$ (begge $N \\times N$ matriser), størrelsen $N$ og den numeriske toleransen $tol$. Denne funksjonen skal så iterere over løsninger ved hjelp av funksjonen <i>Jacobi_step</i> frem til kravet $||V^{(k)} - V|| < tol$ er tilfredstilt. <i>Jacobi</i> skal til slutt returnere den iterative løsningen $V^{(k)}$, antall itterasjoner som ble gjort for å finne denne, samt tiden det tok. Tips:\n",
    "<ul>\n",
    "    <li> Matrise-normen kan regnes ut ved funksjonen <i>np.linalg.norm</i>. </li>\n",
    "    <li> Funksjonen <i>time.time()</i> returnerer tidspunkt, så denne kan brukes på starten og slutten av funksjonen for å regne ut tiden som brukes. </li>"
   ]
  },
  {
   "cell_type": "code",
   "execution_count": 25,
   "metadata": {},
   "outputs": [],
   "source": [
    "#-----------------SKRIV DIN LØSNING HER--------------------------------------------------------------#\n",
    "def Jacobi(V_0, V, N, tol):\n",
    "    startTime = time.time()\n",
    "    norm = np.linalg.norm(V_0 - V)\n",
    "    iterations = 0\n",
    "\n",
    "    while (norm > tol):\n",
    "        V_0 = Jacobi_step(V_0, N)\n",
    "        norm = np.linalg.norm(V_0 - V)\n",
    "        iterations += 1\n",
    "\n",
    "    endTime = time.time()\n",
    "    print(\"iterations:\", iterations)\n",
    "    print(\"time spent:\", endTime - startTime)\n",
    "    return V_0\n",
    "\n"
   ]
  },
  {
   "cell_type": "markdown",
   "metadata": {},
   "source": [
    "Bruk funskjonen <i>Jacobi</i> til å finne en iterativ løsning på Laplace ligning for $N=40$, $tol = 10^{-1}$. Plott resultatet og skriv ut tiden funksjonen bruker samt antall steg. \n",
    "<ul>\n",
    "    <li> Et eksempel på en prøveløsning er en matrise der alle elementene er 0 uten om de i den venstre kolonnen, som er 1 (i henhold til grensebetingelsene). Her går det sikkert ann å prøve seg frem litt. </li>\n",
    "</ul>"
   ]
  },
  {
   "cell_type": "code",
   "execution_count": 27,
   "metadata": {},
   "outputs": [
    {
     "ename": "KeyboardInterrupt",
     "evalue": "",
     "output_type": "error",
     "traceback": [
      "\u001B[0;31m---------------------------------------------------------------------------\u001B[0m",
      "\u001B[0;31mKeyboardInterrupt\u001B[0m                         Traceback (most recent call last)",
      "Cell \u001B[0;32mIn[27], line 7\u001B[0m\n\u001B[1;32m      5\u001B[0m attempt_jacobi[:,\u001B[39m0\u001B[39m] \u001B[39m=\u001B[39m \u001B[39m1\u001B[39m\n\u001B[1;32m      6\u001B[0m \u001B[39m#print(attempt_jacobi)\u001B[39;00m\n\u001B[0;32m----> 7\u001B[0m V_0 \u001B[39m=\u001B[39m Jacobi(attempt_jacobi, V_plot, N, tol)\n\u001B[1;32m     10\u001B[0m plt\u001B[39m.\u001B[39mimshow(V_0)\n\u001B[1;32m     11\u001B[0m plt\u001B[39m.\u001B[39mcolorbar()\n",
      "Cell \u001B[0;32mIn[25], line 8\u001B[0m, in \u001B[0;36mJacobi\u001B[0;34m(V_0, V, N, tol)\u001B[0m\n\u001B[1;32m      5\u001B[0m iterations \u001B[39m=\u001B[39m \u001B[39m0\u001B[39m\n\u001B[1;32m      7\u001B[0m \u001B[39mwhile\u001B[39;00m (norm \u001B[39m>\u001B[39m tol):\n\u001B[0;32m----> 8\u001B[0m     V_0 \u001B[39m=\u001B[39m Jacobi_step(V_0, N)\n\u001B[1;32m      9\u001B[0m     norm \u001B[39m=\u001B[39m np\u001B[39m.\u001B[39mlinalg\u001B[39m.\u001B[39mnorm(V_0 \u001B[39m-\u001B[39m V)\n\u001B[1;32m     10\u001B[0m     iterations \u001B[39m+\u001B[39m\u001B[39m=\u001B[39m \u001B[39m1\u001B[39m\n",
      "Cell \u001B[0;32mIn[24], line 7\u001B[0m, in \u001B[0;36mJacobi_step\u001B[0;34m(V_k, N)\u001B[0m\n\u001B[1;32m      5\u001B[0m     new_V[\u001B[39m0\u001B[39m, x] \u001B[39m=\u001B[39m (new_V[\u001B[39m0\u001B[39m, x\u001B[39m-\u001B[39m\u001B[39m1\u001B[39m] \u001B[39m+\u001B[39m new_V[\u001B[39m0\u001B[39m, x\u001B[39m+\u001B[39m\u001B[39m1\u001B[39m] \u001B[39m+\u001B[39m new_V[N\u001B[39m-\u001B[39m\u001B[39m1\u001B[39m, x] \u001B[39m+\u001B[39m new_V[\u001B[39m1\u001B[39m, x]) \u001B[39m/\u001B[39m\u001B[39m4\u001B[39m\n\u001B[1;32m      6\u001B[0m     \u001B[39mfor\u001B[39;00m y \u001B[39min\u001B[39;00m \u001B[39mrange\u001B[39m(\u001B[39m1\u001B[39m, N\u001B[39m-\u001B[39m\u001B[39m1\u001B[39m):\n\u001B[0;32m----> 7\u001B[0m         new_V[y, x] \u001B[39m=\u001B[39m (V_k[y\u001B[39m-\u001B[39;49m\u001B[39m1\u001B[39;49m, x] \u001B[39m+\u001B[39m V_k[y\u001B[39m+\u001B[39m\u001B[39m1\u001B[39m,x] \u001B[39m+\u001B[39m V_k[y,x\u001B[39m-\u001B[39m\u001B[39m1\u001B[39m] \u001B[39m+\u001B[39m V_k[y,x\u001B[39m+\u001B[39m\u001B[39m1\u001B[39m]) \u001B[39m/\u001B[39m \u001B[39m4\u001B[39m\n\u001B[1;32m      9\u001B[0m         new_V[N\u001B[39m-\u001B[39m\u001B[39m1\u001B[39m, x] \u001B[39m=\u001B[39m (new_V[N\u001B[39m-\u001B[39m\u001B[39m1\u001B[39m, x\u001B[39m-\u001B[39m\u001B[39m1\u001B[39m] \u001B[39m+\u001B[39m new_V[N\u001B[39m-\u001B[39m\u001B[39m1\u001B[39m, x\u001B[39m+\u001B[39m\u001B[39m1\u001B[39m] \u001B[39m+\u001B[39m new_V[N\u001B[39m-\u001B[39m\u001B[39m2\u001B[39m, x] \u001B[39m+\u001B[39m new_V[\u001B[39m0\u001B[39m, x]) \u001B[39m/\u001B[39m \u001B[39m4\u001B[39m\n\u001B[1;32m     10\u001B[0m \u001B[39mreturn\u001B[39;00m new_V\n",
      "\u001B[0;31mKeyboardInterrupt\u001B[0m: "
     ]
    }
   ],
   "source": [
    "#-----------------SKRIV DIN LØSNING HER--------------------------------------------------------------#\n",
    "N = 400\n",
    "tol = 0.1\n",
    "attempt_jacobi = np.zeros([N, N])\n",
    "attempt_jacobi[:,0] = 1\n",
    "#print(attempt_jacobi)\n",
    "V_0 = Jacobi(attempt_jacobi, V_plot, N, tol)\n",
    "\n",
    "\n",
    "plt.imshow(V_0)\n",
    "plt.colorbar()"
   ]
  },
  {
   "cell_type": "markdown",
   "metadata": {},
   "source": [
    "### Oppgave 3: Gauss-Seidel metoden"
   ]
  },
  {
   "cell_type": "markdown",
   "metadata": {
    "collapsed": false
   },
   "source": [
    "Gauss-seidel metoden er veldig lik Jacobi metoden, men som regel et bedre valg ettersom den bruker mindre minne\n",
    "og som regel vil konvergere raskere. Forskjellen er at Gauss-Seidel kun bruker én matrise for $V^{(k)}$, ved at den bruker de oppdaterte verdiene for $V^{(k+1)}$ etterhvert som de blir beregnet i samme itterasjon over matrisen. Dermed blir rekursjonsformelen:\n",
    "\\begin{equation}\n",
    "V(x_i, y_j)= \\frac{1}{4}\\big[ V(x_{i-1},y_j) + V(x_{i+1},y_j) + V(x_i,y_{j-1}) + V(x_i,y_{j+1})\\big]\\text{.}\n",
    "\\end{equation}\n",
    "der vi har droppet $k$-indeksen ettersom $V^{(k+1)}$ avhenger både av seg selv og $V^{(k)}$."
   ]
  },
  {
   "cell_type": "markdown",
   "metadata": {},
   "source": [
    "Gauss-seidel metoden er veldig lik Jacobi metoden, men som regel et bedre valg ettersom den bruker mindre minne\n",
    "og som regel vil konvergere raskere. Forskjellen er at Gauss-Seidel kun bruker én matrise for $V^{(k)}$, ved at den bruker de oppdaterte verdiene for $V^{(k+1)}$ etterhvert som de blir beregnet i samme itterasjon over matrisen. Dermed blir rekursjonsformelen:\n",
    "\\begin{equation}\n",
    "V(x_i, y_j)= \\frac{1}{4}\\big[ V(x_{i-1},y_j) + V(x_{i+1},y_j) + V(x_i,y_{j-1}) + V(x_i,y_{j+1})\\big]\\text{.}\n",
    "\\end{equation}\n",
    "der vi har droppet $k$-indeksen ettersom $V^{(k+1)}$ avhenger både av seg selv og $V^{(k)}$."
   ]
  },
  {
   "cell_type": "markdown",
   "metadata": {},
   "source": [
    "$\\mathrm{3a)}$ Skriv en funksjon <i>Gauss_Seidel</i> som tar inn en prøveløsning $V^{(0)}$, den analytiske løsningen $V$, $N$ og en numerisk toleranse $tol$. Denne skal så finne en iterativ løsning som tilfretstiller \n",
    "$||V^{(k)} - V|| < tol$, der $V^{(k)}$ blir regnet ut ved hjelp av Gauss-Seidel rekursjonsformelen beskrevet over.\n",
    "<ul>\n",
    "    <li> Her er det mulig å gjennbruke mesteparten av koden fra oppgave 2 med noen små endringer </li>\n",
    "</ul>"
   ]
  },
  {
   "cell_type": "code",
   "execution_count": null,
   "metadata": {},
   "outputs": [],
   "source": [
    "#-----------------SKRIV DIN LØSNING HER--------------------------------------------------------------#\n",
    "def Gauss_Seidel_step(V_k, N):\n",
    "    new_V = np.copy(V_k)\n",
    "    for x in range (1, N-1):\n",
    "        new_V[0, x] = (new_V[0, x-1] + new_V[0, x+1] + new_V[N-1, x] + new_V[1, x]) /4\n",
    "        for y in range(1, N-1):\n",
    "            new_V[y, x] = (new_V[y-1, x] + new_V[y+1,x] + new_V[y,x-1] + new_V[y,x+1]) / 4\n",
    "\n",
    "            new_V[N-1, x] = (new_V[N-1, x-1] + new_V[N-1, x+1] + new_V[N-2, x] + new_V[0, x]) / 4\n",
    "    return new_V\n",
    "\n",
    "def Gauss_Seidel(V_0, V, N, tol):\n",
    "    startTime = time.time()\n",
    "    norm = np.linalg.norm(V_0 - V)\n",
    "    iterations = 0\n",
    "\n",
    "    while (norm > tol):\n",
    "        V_0 = Gauss_Seidel_step(V_0, N)\n",
    "        norm = np.linalg.norm(V_0 - V)\n",
    "        iterations += 1\n",
    "\n",
    "    endTime = time.time()\n",
    "    print(\"iterations:\", iterations)\n",
    "    print(\"time spent:\", endTime - startTime)\n",
    "    return V_0\n",
    "\n",
    "\n"
   ]
  },
  {
   "cell_type": "markdown",
   "metadata": {},
   "source": [
    "$\\mathrm{3b)}$ Finn en iterativ løsning for Laplace ligning ved hjelp av Gauss-Seidel metoden for de samme parameterene som i 2c. Plot resultatene og skriv ut anntal steg brukt samt tid. Sammenlign resultatene med de du fant for Jakobi metoden i oppgave 2. "
   ]
  },
  {
   "cell_type": "code",
   "execution_count": null,
   "metadata": {},
   "outputs": [
    {
     "name": "stdout",
     "output_type": "stream",
     "text": [
      "iterations: 1573\n",
      "time spent: 3.9329159259796143\n"
     ]
    },
    {
     "data": {
      "text/plain": [
       "<matplotlib.colorbar.Colorbar at 0x7fe441bc9790>"
      ]
     },
     "execution_count": 8,
     "metadata": {},
     "output_type": "execute_result"
    },
    {
     "data": {
      "image/png": "[encoded data removed]",
      "text/plain": [
       "<Figure size 640x480 with 2 Axes>"
      ]
     },
     "metadata": {},
     "output_type": "display_data"
    }
   ],
   "source": [
    "#-----------------SKRIV DIN LØSNING HER--------------------------------------------------------------#\n",
    "N = 400\n",
    "tol = 0.1\n",
    "attempt_seidel = np.zeros([N, N])\n",
    "attempt_seidel[:,0] = 1\n",
    "#print(attempt_jacobi)\n",
    "V_0 = Gauss_Seidel(attempt_seidel, V_plot, N, tol)\n",
    "\n",
    "\n",
    "plt.imshow(V_0)\n",
    "plt.colorbar()"
   ]
  },
  {
   "cell_type": "markdown",
   "metadata": {},
   "source": [
    "### Oppgave 4: Succesive Over-Relaxation (SOR) metoden"
   ]
  },
  {
   "cell_type": "markdown",
   "metadata": {},
   "source": [
    "SOR metoden er igjen nesten identisk med Gauss-Seidel, med den forskjellen at man innfører en <i>relaxation parameter</i>, $\\omega \\in (0,2)$, og bruker denne til å generere en rekursjonsformel med et veid gjennomsnitt\n",
    "\n",
    "\\begin{equation}\n",
    "V(x_i, y_j)= (1 - \\omega)V(x_i, y_j) +  \\frac{\\omega}{4}\\big[ V(x_{i-1},y_j) + V(x_{i+1},y_j) + V(x_i,y_{j-1}) + V(x_i,y_{j+1})\\big]\\text{.}\n",
    "\\end{equation}\n",
    "\n",
    "Ut ifra valg av $\\omega$ kan denne metoden føre til en drastisk forbedring i konvergenshastighet."
   ]
  },
  {
   "cell_type": "markdown",
   "metadata": {},
   "source": [
    "$\\mathrm{4a)}$ Skriv en funksjon <i>SOR</i> som tar inn en prøveløsning $V^{(0)}$, den analytiske løsningen $V$, $N$, relaxation parameteren $\\omega$ og en numerisk toleranse $tol$. Denne skal så finne en iterativ løsning som tilfretstiller \n",
    "$||V^{(k)} - V|| < tol$, der $V^{(k)}$ blir regnet ut ved hjelp av SOR rekursjonsformelen beskrevet over.\n",
    "<ul>\n",
    "    <li> Her er det igjen mulig å gjennbruke mesteparten av koden </li>\n",
    "</ul>"
   ]
  },
  {
   "cell_type": "code",
   "execution_count": null,
   "metadata": {},
   "outputs": [],
   "source": [
    "#-----------------SKRIV DIN LØSNING HER--------------------------------------------------------------#\n",
    "def SOR_step(V_k, N, omega):\n",
    "    new_V = np.copy(V_k)\n",
    "    for x in range (1, N-1):\n",
    "        new_V[0, x] = (1-omega)*new_V[0, x] + (new_V[0, x-1] + new_V[0, x+1] + new_V[N-1, x] + new_V[1, x])*(omega/4)\n",
    "        for y in range(1, N-1):\n",
    "            new_V[y, x] = (1-omega)*new_V[y, x] + (new_V[y-1, x] + new_V[y+1,x] + new_V[y,x-1] + new_V[y,x+1])*omega / 4\n",
    "\n",
    "            new_V[N-1, x] = (1-omega)*new_V[N-1, x] + (new_V[N-1, x-1] + new_V[N-1, x+1] + new_V[N-2, x] + new_V[0, x])*omega / 4\n",
    "    return new_V\n",
    "\n",
    "def SOR(V_0, V, N, omega, tol):\n",
    "    startTime = time.time()\n",
    "    norm = np.linalg.norm(V_0 - V)\n",
    "    iterations = 0\n",
    "\n",
    "    while (norm > tol):\n",
    "        V_0 = SOR_step(V_0, N, omega)\n",
    "        norm = np.linalg.norm(V_0 - V)\n",
    "        iterations += 1\n",
    "\n",
    "    endTime = time.time()\n",
    "    print(\"iterations:\", iterations)\n",
    "    print(\"time spent:\", endTime - startTime)\n",
    "    return V_0\n"
   ]
  },
  {
   "cell_type": "markdown",
   "metadata": {},
   "source": [
    "$\\mathrm{3b)}$ Finn en iterativ løsning for Laplace ligning ved hjelp av SOR metoden for de samme parameterene som tidligere for 3 verdier av $\\omega$. Plot resultatene og skriv ut anntal steg brukt samt tid. Sammenlign resultater for ulike verdier av $\\omega$, og med resultater fra tidligere oppgaver."
   ]
  },
  {
   "cell_type": "code",
   "execution_count": null,
   "metadata": {},
   "outputs": [
    {
     "name": "stdout",
     "output_type": "stream",
     "text": [
      "iterations: 1573\n",
      "time spent: 5.554588794708252\n"
     ]
    },
    {
     "data": {
      "text/plain": [
       "<matplotlib.colorbar.Colorbar at 0x7fe472323bb0>"
      ]
     },
     "execution_count": 19,
     "metadata": {},
     "output_type": "execute_result"
    },
    {
     "data": {
      "image/png": "[encoded data removed]",
      "text/plain": [
       "<Figure size 640x480 with 2 Axes>"
      ]
     },
     "metadata": {},
     "output_type": "display_data"
    }
   ],
   "source": [
    "#-----------------SKRIV DIN LØSNING HER--------------------------------------------------------------#\n",
    "N = 400\n",
    "tol = 0.1\n",
    "attempt_SOR = np.zeros([N, N])\n",
    "attempt_SOR[:,0] = 1\n",
    "omega = 1\n",
    "#print(attempt_jacobi)\n",
    "V_0 = SOR(attempt_SOR, V_plot, N, omega, tol)\n",
    "\n",
    "\n",
    "plt.imshow(V_0)\n",
    "plt.colorbar()"
   ]
  },
  {
   "cell_type": "code",
   "execution_count": 34,
   "metadata": {},
   "outputs": [
    {
     "name": "stdout",
     "output_type": "stream",
     "text": [
      "iterations: 632\n",
      "time spent: 14.514209985733032\n"
     ]
    },
    {
     "data": {
      "text/plain": [
       "<matplotlib.colorbar.Colorbar at 0x7fe4422a5ee0>"
      ]
     },
     "execution_count": 34,
     "metadata": {},
     "output_type": "execute_result"
    },
    {
     "data": {
      "image/png": "[encoded data removed]",
      "text/plain": [
       "<Figure size 640x480 with 2 Axes>"
      ]
     },
     "metadata": {},
     "output_type": "display_data"
    }
   ],
   "source": [
    "N = 100\n",
    "tol = 0.1\n",
    "attempt_SOR = np.zeros([N, N])\n",
    "attempt_SOR[:,0] = 1\n",
    "omega = 1.9\n",
    "#print(attempt_jacobi)\n",
    "V_0 = SOR(attempt_SOR, V_plot, N, omega, tol)\n",
    "\n",
    "\n",
    "plt.imshow(V_0)\n",
    "plt.colorbar()"
   ]
  },
  {
   "cell_type": "code",
   "execution_count": 36,
   "metadata": {},
   "outputs": [
    {
     "name": "stdout",
     "output_type": "stream",
     "text": [
      "iterations: 9748\n",
      "time spent: 1032.7134518623352\n"
     ]
    },
    {
     "data": {
      "text/plain": [
       "<matplotlib.colorbar.Colorbar at 0x7fe4480bc400>"
      ]
     },
     "execution_count": 36,
     "metadata": {},
     "output_type": "execute_result"
    },
    {
     "data": {
      "image/png": "[encoded data removed]",
      "text/plain": [
       "<Figure size 640x480 with 2 Axes>"
      ]
     },
     "metadata": {},
     "output_type": "display_data"
    }
   ],
   "source": [
    "N = 150\n",
    "tol = 0.1\n",
    "attempt_SOR = np.zeros([N, N])\n",
    "attempt_SOR[:,0] = 1\n",
    "omega = 1.5\n",
    "#print(attempt_jacobi)\n",
    "V_0 = SOR(attempt_SOR, V_plot, N, omega, tol)\n",
    "\n",
    "\n",
    "plt.imshow(V_0)\n",
    "plt.colorbar()"
   ]
  },
  {
   "attachments": {},
   "cell_type": "markdown",
   "metadata": {},
   "source": [
    "### Analyse av SOR\n",
    "\n",
    "Som vi ser fikk vi følgende resultater ved SOR:\n",
    "${\\omega}$ = 1:\n",
    "\n",
    "iterations: 1573\n",
    "\n",
    "time spent: 5.554588794708252\n",
    "\n",
    "\n",
    "${\\omega}$ = 1.5:\n",
    "\n",
    "iterations: 526\n",
    "\n",
    "time spent: 1.860931158065796\n",
    "\n",
    "\n",
    "${\\omega}$ = 1.9:\n",
    "\n",
    "iterations: 76\n",
    "\n",
    "time spent: 0.27295422554016113\n",
    "\n",
    "\n",
    "#### Ved høyere verdi av omega går antall steg betydelig ned, i hvert fall i forhold til de tidligere utregningene:\n",
    "\n",
    "#### Jacobi:\n",
    "\n",
    "iterations: 3114\n",
    "\n",
    "time spent: 7.779178142547607\n",
    "\n",
    "\n",
    "#### Gauss_Seidel:\n",
    "\n",
    "iterations: 1573\n",
    "\n",
    "time spent: 3.9329159259796143"
   ]
  },
  {
   "cell_type": "markdown",
   "metadata": {},
   "source": [
    "### Ekstraoppgave"
   ]
  },
  {
   "cell_type": "markdown",
   "metadata": {},
   "source": [
    "<ul>\n",
    "    \n",
    "<li> Prøv å skru opp systemstørrelsen for de tre metodene og undersøk om forholdet mellom kjøretidene og anntall steg endrer seg.</li>\n",
    "<li> Fungerer metodene for en vilkårlig prøveløsning (med riktige grensebetingelser)? Prøv å lag noen sjuke prøveløsninger og se om det fortsatt konvergerer mot riktig løsning. </li>\n",
    "</ul>"
   ]
  },
  {
   "cell_type": "code",
   "execution_count": null,
   "metadata": {},
   "outputs": [],
   "source": []
  },
  {
   "attachments": {},
   "cell_type": "markdown",
   "metadata": {},
   "source": [
    "Skrudde opp til 400, da gikk det ganske lang tid med å få gjort med jacobi, faktisk etter 40min ble det ikke gjennomført!\n",
    "\n",
    "Skrudde opp til 100, da og kjørte bare den mest optimale SOR (omega = 1.9), der ble det følgende tider:\n",
    "\n",
    "iterations: 632\n",
    "\n",
    "time spent: 14.514209985733032\n",
    "\n",
    "Noe som vil si at det ikke er en lineær sammenheng mellom N og lengden, men heller en eksponensiell sammenheng. \n",
    "\n",
    "Skrudde opp til 150, og kjøre igjen bare den mest optimaliserte SOR, der ble det følgende tider:\n",
    "\n",
    "iterations: 9748\n",
    "\n",
    "time spent: 1032.7134518623352\n",
    "\n",
    "Dette funnet bekrefter egentlig hva som var hypotesen fra tidligere, om eksponensiell økning av iterasjoner/tid. Kanksje ikke så rart når det øker med xˆx hver gang"
   ]
  }
 ],
 "metadata": {
  "kernelspec": {
   "display_name": "venv",
   "language": "python",
   "name": "python3"
  },
  "language_info": {
   "codemirror_mode": {
    "name": "ipython",
    "version": 3
   },
   "file_extension": ".py",
   "mimetype": "text/x-python",
   "name": "python",
   "nbconvert_exporter": "python",
   "pygments_lexer": "ipython3",
   "version": "3.9.0"
  },
  "vscode": {
   "interpreter": {
    "hash": "986fd0fa62f8d3ff6feffad037a0a66af9e9ce0c193394314e0bd26609e0154b"
   }
  }
 },
 "nbformat": 4,
 "nbformat_minor": 2
}